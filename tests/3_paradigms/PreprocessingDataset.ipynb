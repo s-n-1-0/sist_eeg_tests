{
 "cells": [
  {
   "cell_type": "code",
   "execution_count": null,
   "id": "3afa3e42",
   "metadata": {},
   "outputs": [],
   "source": [
    "import numpy as np\n",
    "import h5py\n",
    "from scipy import signal\n",
    "from sklearn.preprocessing import StandardScaler\n",
    "from matplotlib import pyplot as plt\n",
    "import glob\n",
    "import os\n",
    "import mne\n",
    "root_path = \"//172.16.88.200/private/2221012/MIOnly_FTP_EEG Dataset and OpenBMI Toolbox for Three BCI Paradigms\"\n",
    "file_paths = glob.glob(root_path + \"/pres/*.set\")\n",
    "fs = 500\n",
    "ch = 14 #C4"
   ]
  },
  {
   "cell_type": "code",
   "execution_count": null,
   "id": "b37c7abf",
   "metadata": {},
   "outputs": [],
   "source": [
    "finfo_list = []\n",
    "for file_path in file_paths:\n",
    "    file_name = os.path.basename(file_path)\n",
    "    fns = file_name.split(\"_\")\n",
    "    session = int(fns[0][4:])\n",
    "    subject = int(fns[1][4:])\n",
    "    finfo_list.append((file_path,subject,session))"
   ]
  },
  {
   "attachments": {},
   "cell_type": "markdown",
   "id": "abfcf59e",
   "metadata": {},
   "source": [
    "'Fp1', 'Fp2', 'F7', 'F3', 'Fz', 'F4', 'F8', 'FC5', 'FC1', 'FC2', 'FC6', 'T7', 'C3', 'Cz', 'C4', 'T8', 'TP9', 'CP5', 'CP1', 'CP2', 'CP6', 'TP10', 'P7', 'P3', 'Pz', 'P4', 'P8', 'PO9', 'O1', 'Oz', 'O2', 'PO10', 'FC3', 'FC4', 'C5', 'C1', 'C2', 'C6', 'CP3', 'CPz', 'CP4', 'P1', 'P2', 'POz', 'FT9', 'FTT9h', 'TTP7h', 'TP7', 'TPP9h', 'FT10', 'FTT10h', 'TPP8h', 'TP8', 'TPP10h', 'F9', 'F10', 'AF7', 'AF3', 'AF4', 'AF8', 'PO3', 'PO4'"
   ]
  },
  {
   "attachments": {},
   "cell_type": "markdown",
   "id": "9f46b84a",
   "metadata": {},
   "source": [
    "## Preview"
   ]
  },
  {
   "cell_type": "code",
   "execution_count": null,
   "id": "b20c914e",
   "metadata": {
    "scrolled": true
   },
   "outputs": [],
   "source": [
    "preview_path,_,_ = finfo_list[0]\n",
    "x = mne.io.read_epochs_eeglab(preview_path).get_data(item=[\"left\",\"right\"])\n",
    "x.shape"
   ]
  },
  {
   "attachments": {},
   "cell_type": "markdown",
   "id": "3a0317ea",
   "metadata": {},
   "source": [
    "### 標準化"
   ]
  },
  {
   "cell_type": "code",
   "execution_count": null,
   "id": "c47cb97a",
   "metadata": {},
   "outputs": [],
   "source": [
    "dx = x[0,:,:]\n",
    "dx = StandardScaler().fit_transform(dx.T).T\n",
    "#test: np.array([[1,2,3],[10,20,30]]),StandardScaler().fit_transform(np.array([[1,2,3],[10,20,30]]).T).T"
   ]
  },
  {
   "attachments": {},
   "cell_type": "markdown",
   "id": "6b2a40a8",
   "metadata": {},
   "source": [
    "### パワースペクトルに変換"
   ]
  },
  {
   "cell_type": "code",
   "execution_count": null,
   "id": "4005340c",
   "metadata": {},
   "outputs": [],
   "source": [
    "# パワースペクトルへの変換\n",
    "freq, px = signal.periodogram(dx, fs=fs)\n",
    "print(len(freq))\n",
    "plt.plot(freq,np.mean(px,axis=0))\n",
    "plt.xlim((2,30))\n",
    "plt.ylim((0,0.050))"
   ]
  },
  {
   "attachments": {},
   "cell_type": "markdown",
   "id": "55db915a",
   "metadata": {},
   "source": [
    "## まとめて処理(trainのみ)"
   ]
  },
  {
   "cell_type": "code",
   "execution_count": null,
   "id": "13ed9bce",
   "metadata": {},
   "outputs": [],
   "source": [
    "from eeghdf import EEGHDFUpdater\n",
    "updater = EEGHDFUpdater(hdf_path=root_path+\"/ex.h5\",\n",
    "                        fs=250,\n",
    "                        lables=[\"left\",\"right\"])\n",
    "for path,_,_ in finfo_list:\n",
    "    ### 前処理 一旦保留\n",
    "    #x = StandardScaler().fit_transform(x.T).T #標準化\n",
    "    # #_, x = signal.periodogram(x, fs=fs/down_rate) #パワースペクトル\n",
    "    \n",
    "    ###\n",
    "    updater.add_eeglab(path)"
   ]
  },
  {
   "cell_type": "code",
   "execution_count": null,
   "id": "eec8e5ea",
   "metadata": {},
   "outputs": [],
   "source": []
  }
 ],
 "metadata": {
  "kernelspec": {
   "display_name": "Python 3 (ipykernel)",
   "language": "python",
   "name": "python3"
  },
  "language_info": {
   "codemirror_mode": {
    "name": "ipython",
    "version": 3
   },
   "file_extension": ".py",
   "mimetype": "text/x-python",
   "name": "python",
   "nbconvert_exporter": "python",
   "pygments_lexer": "ipython3",
   "version": "3.9.12"
  }
 },
 "nbformat": 4,
 "nbformat_minor": 5
}
