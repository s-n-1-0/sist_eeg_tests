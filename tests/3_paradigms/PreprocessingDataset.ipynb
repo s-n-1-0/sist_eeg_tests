{
 "cells": [
  {
   "cell_type": "code",
   "execution_count": null,
   "id": "3afa3e42",
   "metadata": {},
   "outputs": [],
   "source": [
    "import numpy as np\n",
    "import h5py\n",
    "from scipy import signal\n",
    "from sklearn.preprocessing import StandardScaler\n",
    "from matplotlib import pyplot as plt\n",
    "dataset_size = (54,54)\n",
    "root_path = \"//172.16.88.200/private/2221012/MIOnly_FTP_EEG Dataset and OpenBMI Toolbox for Three BCI Paradigms\"\n",
    "fs = 1000\n",
    "down_rate = 4\n",
    "ch = 14 #C4"
   ]
  },
  {
   "attachments": {},
   "cell_type": "markdown",
   "id": "abfcf59e",
   "metadata": {},
   "source": [
    "'Fp1', 'Fp2', 'F7', 'F3', 'Fz', 'F4', 'F8', 'FC5', 'FC1', 'FC2', 'FC6', 'T7', 'C3', 'Cz', 'C4', 'T8', 'TP9', 'CP5', 'CP1', 'CP2', 'CP6', 'TP10', 'P7', 'P3', 'Pz', 'P4', 'P8', 'PO9', 'O1', 'Oz', 'O2', 'PO10', 'FC3', 'FC4', 'C5', 'C1', 'C2', 'C6', 'CP3', 'CPz', 'CP4', 'P1', 'P2', 'POz', 'FT9', 'FTT9h', 'TTP7h', 'TP7', 'TPP9h', 'FT10', 'FTT10h', 'TPP8h', 'TP8', 'TPP10h', 'F9', 'F10', 'AF7', 'AF3', 'AF4', 'AF8', 'PO3', 'PO4'"
   ]
  },
  {
   "attachments": {},
   "cell_type": "markdown",
   "id": "9f46b84a",
   "metadata": {},
   "source": [
    "## Preview"
   ]
  },
  {
   "cell_type": "code",
   "execution_count": null,
   "id": "b20c914e",
   "metadata": {
    "scrolled": true
   },
   "outputs": [],
   "source": [
    "x = np.load(f\"{root_path}/prev_dataset/s1_subj1_train_x.npy\")\n",
    "x = x.transpose((1,0,2))[:,:,ch]\n",
    "y = np.load(f\"{root_path}/prev_dataset/s1_subj1_train_y.npy\")\n",
    "labels = [\"right\" if l == 1 else \"left\" for l in y]\n",
    "labels[:3]\n",
    "x.shape,y.shape"
   ]
  },
  {
   "attachments": {},
   "cell_type": "markdown",
   "id": "2f953ada",
   "metadata": {},
   "source": [
    "### ダウンサンプリング"
   ]
  },
  {
   "cell_type": "code",
   "execution_count": null,
   "id": "f2767a73",
   "metadata": {
    "scrolled": true
   },
   "outputs": [],
   "source": [
    "dx = signal.decimate(x, down_rate) #1000hz / 4 にダウンサンプリング\n",
    "dfs = fs / down_rate\n",
    "\n",
    "plt.title(\"fs 1000hz\")\n",
    "plt.plot(np.array(range(4000))/fs,x[0,:])\n",
    "plt.show()\n",
    "plt.title(\"fs 250hz\")\n",
    "plt.plot(np.array(range(1000))/dfs,dx[0,:])"
   ]
  },
  {
   "attachments": {},
   "cell_type": "markdown",
   "id": "3a0317ea",
   "metadata": {},
   "source": [
    "### 標準化"
   ]
  },
  {
   "cell_type": "code",
   "execution_count": null,
   "id": "c47cb97a",
   "metadata": {},
   "outputs": [],
   "source": [
    "dx = StandardScaler().fit_transform(dx.T).T"
   ]
  },
  {
   "attachments": {},
   "cell_type": "markdown",
   "id": "6b2a40a8",
   "metadata": {},
   "source": [
    "### パワースペクトルに変換"
   ]
  },
  {
   "cell_type": "code",
   "execution_count": null,
   "id": "4005340c",
   "metadata": {},
   "outputs": [],
   "source": [
    "# パワースペクトルへの変換\n",
    "freq, px = signal.periodogram(dx, fs=dfs)\n",
    "\n",
    "\n",
    "print(len(freq))\n",
    "plt.plot(freq,np.mean(px,axis=0))\n",
    "plt.xlim((2,30))\n",
    "plt.ylim((0,0.2))"
   ]
  },
  {
   "attachments": {},
   "cell_type": "markdown",
   "id": "55db915a",
   "metadata": {},
   "source": [
    "## まとめて処理(trainのみ)"
   ]
  },
  {
   "cell_type": "code",
   "execution_count": null,
   "id": "13ed9bce",
   "metadata": {},
   "outputs": [],
   "source": [
    "for i, size in enumerate(dataset_size):\n",
    "    for j in range(size):\n",
    "        _path = f\"prev_dataset/s{(i+1)}_subj{j+1}_train\"\n",
    "        x = np.load(f\"{root_path}/{_path}_x.npy\")\n",
    "        x = x.transpose((1,0,2))[:,:,ch]\n",
    "        \n",
    "        ### 前処理\n",
    "        x = signal.decimate(x, down_rate) #ダウンサンプリング\n",
    "        x = StandardScaler().fit_transform(x.T).T #標準化\n",
    "\n",
    "        _, x = signal.periodogram(x, fs=fs/down_rate) #パワースペクトル\n",
    "        ###\n",
    "        y = np.load(f\"{root_path}/{_path}_y.npy\")\n",
    "        labels = [\"right\" if l == 1 else \"left\" for l in y]\n",
    "        with h5py.File(f\"{root_path}/dataset.h5\", \"w\" if i== 0 and j == 0 else \"r+\") as h5:\n",
    "            session_group = h5.require_group(\"s\" + str(i+1))\n",
    "            for k,label in enumerate(labels):\n",
    "                local_group = session_group.require_group(\"./\" + label)\n",
    "                counter = local_group.attrs.get(\"count\")\n",
    "                counter = 0 if counter is None else counter + 1\n",
    "                local_group.attrs[\"count\"] = counter\n",
    "                d = local_group.create_dataset(f\"{counter}\",(x.shape[1]),data=x[k,:])\n",
    "                d.attrs[\"label\"] = label\n",
    "                d.attrs[\"subj\"] = j+1"
   ]
  },
  {
   "attachments": {},
   "cell_type": "markdown",
   "id": "778e2ef8",
   "metadata": {},
   "source": [
    "## セッション統合"
   ]
  },
  {
   "cell_type": "code",
   "execution_count": 12,
   "id": "b74c6c7d",
   "metadata": {
    "scrolled": true
   },
   "outputs": [],
   "source": [
    "with h5py.File(f\"{root_path}/dataset.h5\", \"r+\") as h5:\n",
    "    new_group = h5.create_group(\"total\")\n",
    "    for s in range(2):\n",
    "        session = h5[f\"s{s+1}\"]\n",
    "        labels = [\"right\",\"left\"]\n",
    "        for label in labels:\n",
    "            local = session[label]\n",
    "            c = local.attrs[\"count\"]\n",
    "            for i in range(c):\n",
    "                data = local[str(i)]\n",
    "                counter = new_group.attrs.get(\"count\")\n",
    "                counter = 0 if counter is None else counter + 1\n",
    "                new_group.attrs[\"count\"] = counter\n",
    "                d = new_group.create_dataset(f\"{counter}\",data[()].shape,data=data[()])\n",
    "                for atkey in data.attrs:\n",
    "                    d.attrs[atkey] = data.attrs[atkey]\n",
    "                d.attrs[\"label\"] = label"
   ]
  },
  {
   "cell_type": "code",
   "execution_count": null,
   "id": "33a56edd",
   "metadata": {},
   "outputs": [],
   "source": []
  }
 ],
 "metadata": {
  "kernelspec": {
   "display_name": "Python 3 (ipykernel)",
   "language": "python",
   "name": "python3"
  },
  "language_info": {
   "codemirror_mode": {
    "name": "ipython",
    "version": 3
   },
   "file_extension": ".py",
   "mimetype": "text/x-python",
   "name": "python",
   "nbconvert_exporter": "python",
   "pygments_lexer": "ipython3",
   "version": "3.9.12"
  }
 },
 "nbformat": 4,
 "nbformat_minor": 5
}
