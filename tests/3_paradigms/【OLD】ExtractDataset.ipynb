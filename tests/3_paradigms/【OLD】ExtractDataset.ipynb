{
 "cells": [
  {
   "attachments": {},
   "cell_type": "markdown",
   "id": "51f759c2",
   "metadata": {},
   "source": [
    "+ Dataset : http://gigadb.org/dataset/100542\n",
    "+ ログ込みは : https://gist.github.com/s-n-1-0/18e402a7fefe69be739f0a7e8fdfa0d8\n",
    "\n",
    "## 設定"
   ]
  },
  {
   "cell_type": "code",
   "execution_count": null,
   "id": "645daac3",
   "metadata": {
    "scrolled": true
   },
   "outputs": [],
   "source": [
    "import scipy.io\n",
    "import numpy as np\n",
    "dataset_size = (54,54)\n",
    "root_path = \"//172.16.88.200/private/2221012/MIOnly_FTP_EEG Dataset and OpenBMI Toolbox for Three BCI Paradigms\"\n",
    "train_key = \"EEG_MI_train\"\n",
    "test_key = \"EEG_MI_test\""
   ]
  },
  {
   "attachments": {},
   "cell_type": "markdown",
   "id": "ade9ed2f",
   "metadata": {},
   "source": [
    "## まずはファイル単体で処理(preview)"
   ]
  },
  {
   "cell_type": "code",
   "execution_count": null,
   "id": "2d48eb13",
   "metadata": {},
   "outputs": [],
   "source": [
    "data_mat = scipy.io.loadmat(root_path + \"/session1/sess01_subj01_EEG_MI.mat\")\n",
    "data_mat.keys()"
   ]
  },
  {
   "cell_type": "code",
   "execution_count": null,
   "id": "5a745efd",
   "metadata": {
    "scrolled": true
   },
   "outputs": [],
   "source": [
    "def parse_mat(parent_key,mat_data):\n",
    "    data = mat_data[parent_key][0][0]\n",
    "    #形式整理\n",
    "    for i in range(len(data)):\n",
    "        sq_data = data[i].squeeze()\n",
    "        if len(sq_data.shape) == 1:\n",
    "            data[i] =  sq_data\n",
    "        if len(sq_data.shape) == 0:\n",
    "            data[i] = sq_data\n",
    "    return data\n",
    "\n",
    "train = parse_mat(train_key,data_mat)\n",
    "test = parse_mat(test_key,data_mat)\n",
    "[ print(t.shape) for t in train];\n",
    "print(\"※()は1x1の値\")"
   ]
  },
  {
   "attachments": {},
   "cell_type": "markdown",
   "id": "616fa202",
   "metadata": {},
   "source": [
    "各要素  \n",
    "\n",
    "0. smt: 試行ごとに分割された信号\n",
    "1. x : 分割されていない信号\n",
    "2. t : 分割のインデックス\n",
    "3. fs : サンプリングレート\n",
    "4. y_dec : 試行のラベル(1 or 2)\n",
    "5. y_logic : y_decのワンホットラベル版\n",
    "6. y_class : y_decの\"right\" : \"left\"版\n",
    "7. class : 値とラベルの対応表\n",
    "8. chan : 使用しているチャンネルのリスト\n",
    "9. ival : インターバルの連番インデックス\n",
    "10. time_interval : 1試行の間隔タプル(0,4000)\n",
    "11. EMG : EMG信号\n",
    "12. EMG_index : EMGの対応表\n",
    "13. pre_rest : 1分間の休憩(測定前)信号\n",
    "14. post_rest : 1分間の休憩(測定後)信号\n",
    "15. rest_interval : 休憩の間隔タプル(0,60000)"
   ]
  },
  {
   "cell_type": "code",
   "execution_count": null,
   "id": "1924849d",
   "metadata": {},
   "outputs": [],
   "source": [
    "print([t[0] for t in train[8]])"
   ]
  },
  {
   "cell_type": "code",
   "execution_count": null,
   "id": "9c736ae2",
   "metadata": {},
   "outputs": [],
   "source": [
    "# 使うのはsmtとy_decのみ\n",
    "def extract_data(parsed_data):\n",
    "     return parsed_data[0],parsed_data[4]\n",
    "print(f\"X :{np.concatenate([extract_data(d)[0] for d in [train,test]],axis=1).shape}\")\n",
    "print(f\"Y :{np.concatenate([extract_data(d)[1] for d in [train,test]]).shape}\")"
   ]
  },
  {
   "attachments": {},
   "cell_type": "markdown",
   "id": "74c56620",
   "metadata": {},
   "source": [
    "## まとめて処理"
   ]
  },
  {
   "cell_type": "code",
   "execution_count": null,
   "id": "2ccb5505",
   "metadata": {},
   "outputs": [],
   "source": [
    "def save_npy(name,extracted_data):\n",
    "    np.save(f\"{root_path}/{name}_x\",extracted_data[0])\n",
    "    np.save(f\"{root_path}/{name}_y\",extracted_data[1])\n",
    "for i, size in enumerate(dataset_size):\n",
    "    for j in range(size):\n",
    "        session = scipy.io.loadmat(f\"{root_path}/session{i+1}/sess{(i+1):02}_subj{(j+1):02}_EEG_MI.mat\")\n",
    "        train = extract_data(parse_mat(train_key,session))\n",
    "        test = extract_data(parse_mat(test_key,session))\n",
    "        save_npy(f\"prev_dataset/s{(i+1)}_subj{j+1}_train\",train)\n",
    "        save_npy(f\"prev_dataset/s{(i+1)}_subj{j+1}_test\",test)"
   ]
  },
  {
   "cell_type": "code",
   "execution_count": null,
   "id": "a7186116",
   "metadata": {},
   "outputs": [],
   "source": []
  }
 ],
 "metadata": {
  "kernelspec": {
   "display_name": "Python 3 (ipykernel)",
   "language": "python",
   "name": "python3"
  },
  "language_info": {
   "codemirror_mode": {
    "name": "ipython",
    "version": 3
   },
   "file_extension": ".py",
   "mimetype": "text/x-python",
   "name": "python",
   "nbconvert_exporter": "python",
   "pygments_lexer": "ipython3",
   "version": "3.9.12"
  }
 },
 "nbformat": 4,
 "nbformat_minor": 5
}
