{
 "cells": [
  {
   "attachments": {},
   "cell_type": "markdown",
   "metadata": {},
   "source": [
    "# 明暗タスクデータセット 要約\n",
    "\n",
    "\n",
    "## 前処理\n",
    "### Pythonによるファイル統合\n",
    "心理学実験ソフトウェアのログをedfファイルに書き込む"
   ]
  },
  {
   "cell_type": "code",
   "execution_count": null,
   "metadata": {},
   "outputs": [],
   "source": [
    "import os\n",
    "from labedf import csv2,edf2,set2\n",
    "import numpy as np\n",
    "from scipy import signal\n",
    "from pyedflib import EdfReader\n",
    "from utils import edf as myedf,edflab as myedflab,signals_standardization,lowpass_filter\n",
    "DATASET_DIR_PATH = \"./dataset/lord2/train\"\n",
    "file_settings = myedflab.MergeAllCsv2EdfFileSettings(DATASET_DIR_PATH + \"/ペア.csv\",list_encoding=\"ansi\")\n",
    "edfcsv_filenames = file_settings.get_edfcsv_filenames()\n",
    "with EdfReader(f\"{DATASET_DIR_PATH}/edf/{edfcsv_filenames[0,0]}\") as er:\n",
    "    fs = int(myedf.get_fs(er))\n",
    "\n",
    "# %% merge csv,edf\n",
    "file_settings.build_dir_path = f\"{file_settings.root_path}/build/1\"\n",
    "filenames = myedflab.merge_all_csv2edf(file_settings,label_header_name=\"LorD\",marker_names=[\"Marker\"],marker_offset=None)\n",
    "file_settings.build_dir_path = f\"{file_settings.root_path}/build/2\"\n",
    "_ = myedflab.merge_all_csv2edf(file_settings,label_header_name=\"LorD\",marker_names=[\"Wait\"],marker_offset=None)"
   ]
  },
  {
   "attachments": {},
   "cell_type": "markdown",
   "metadata": {},
   "source": [
    "### MATLABで前処理\n",
    "+ [コード - コミット固定](https://github.com/s-n-1-0/sist_eeg_tests/blob/64c722b010dc63870cb3341b225c3c5873d027e8/notes/dataset/lord2/preprocessing.m)  \n",
    "(変更点 : エポックリジェクション前の途中経過を保存する処理を加えた、待機時脳波も前処理対象に加えた)"
   ]
  },
  {
   "attachments": {},
   "cell_type": "markdown",
   "metadata": {},
   "source": [
    "## データセットサイズ"
   ]
  },
  {
   "cell_type": "code",
   "execution_count": null,
   "metadata": {},
   "outputs": [],
   "source": [
    "import mne\n",
    "labels = [\"dark\",\"light\"]\n",
    "before_wait_dataset = []\n",
    "before_lord_dataset = []\n",
    "after_wait_dataset = []\n",
    "after_lord_dataset = []\n",
    "# 刺激脳波\n",
    "for filename in filenames:\n",
    "    epochs = mne.io.read_epochs_eeglab(DATASET_DIR_PATH +\"/snapshot/1/\"+filename+\".set\")\n",
    "    _ld = []\n",
    "    for label in labels:\n",
    "        _ld.append(epochs.get_data(item=f\"Marker__{label}\"))\n",
    "    before_lord_dataset.append(_ld)\n",
    "    epochs = mne.io.read_epochs_eeglab(DATASET_DIR_PATH +\"/pre2/1/\"+filename+\".set\")\n",
    "    _ld = []\n",
    "    for label in labels:\n",
    "        _ld.append(epochs.get_data(item=f\"Marker__{label}\"))\n",
    "    after_lord_dataset.append(_ld)\n",
    "\n",
    "# 待機脳波\n",
    "for filename in filenames:\n",
    "    epochs = mne.io.read_epochs_eeglab(DATASET_DIR_PATH +\"/snapshot/2/\"+filename+\".set\")\n",
    "    _wd = []\n",
    "    for label in labels:\n",
    "        _wd.append(epochs.get_data(item=f\"Wait__{label}\"))\n",
    "    before_wait_dataset.append(np.concatenate(_wd)) # dark,lightにこだわりがないため結合\n",
    "    epochs = mne.io.read_epochs_eeglab(DATASET_DIR_PATH +\"/pre2/2/\"+filename+\".set\")\n",
    "    _wd = []\n",
    "    for label in labels:\n",
    "        _wd.append(epochs.get_data(item=f\"Wait__{label}\"))\n",
    "    after_wait_dataset.append(np.concatenate(_wd))\n",
    "\n"
   ]
  },
  {
   "cell_type": "code",
   "execution_count": null,
   "metadata": {},
   "outputs": [],
   "source": [
    "import matplotlib.pyplot as plt\n",
    "\n",
    "before_wait_count = sum([wd.shape[0] for wd in before_wait_dataset])\n",
    "before_dark_count = sum([ld[0].shape[0]   for ld in before_lord_dataset])\n",
    "before_light_count = sum([ld[1].shape[0]   for ld in before_lord_dataset])\n",
    "\n",
    "after_wait_count = sum([wd.shape[0] for wd in after_wait_dataset])\n",
    "after_dark_count = sum([ld[0].shape[0]   for ld in after_lord_dataset])\n",
    "after_light_count = sum([ld[1].shape[0]   for ld in after_lord_dataset])\n",
    "\n",
    "\n",
    "print(f\"前処理前 待機画像数 : {before_wait_count}\")\n",
    "print(f\"前処理前 刺激画像数(暗) : {before_dark_count}\")\n",
    "print(f\"前処理前 刺激画像数(明) : {before_light_count}\")\n",
    "print(\"------\")\n",
    "print(f\"前処理後 待機画像数 : {after_wait_count}\")\n",
    "print(f\"前処理後 刺激画像数(暗) : {after_dark_count}\")\n",
    "print(f\"前処理後 刺激画像数(明) : {after_light_count}\")\n",
    "\n",
    "plt.bar([\"wait\"] + labels,[before_wait_count,before_dark_count,before_light_count])\n",
    "plt.title(\"Before\")\n",
    "plt.show()\n",
    "plt.title(\"After\")\n",
    "plt.bar([\"wait\"] + labels,[after_wait_count,after_dark_count,after_light_count])\n"
   ]
  },
  {
   "attachments": {},
   "cell_type": "markdown",
   "metadata": {},
   "source": [
    "## 加算平均・平均・標準偏差・標準誤差・パワースペクトル(平均)"
   ]
  },
  {
   "cell_type": "code",
   "execution_count": null,
   "metadata": {},
   "outputs": [],
   "source": [
    "t_range = [i/500 - 1 for i in range(1500)]\n",
    "N = 500            # サンプル数\n",
    "t = 3          # サンプリング間隔\n",
    "fft_range = np.linspace(0, N, N*t)  # 時間軸\n",
    "\n",
    "def plot_all_ch(title,data:np.ndarray,is_fft:bool = False):\n",
    "    fig = plt.figure(figsize=(20,8),facecolor=\"white\")\n",
    "    fig.suptitle(title)\n",
    "    plt.subplots_adjust(wspace=0.4, hspace=0.6)\n",
    "    for i in range(10):\n",
    "        ax = fig.add_subplot(3, 4, i+1)\n",
    "        ax.plot(t_range if not is_fft else fft_range,data[i,:])\n",
    "        ax.set_title(f\"{i + 1}ch\")\n",
    "\n",
    "    return fig\n",
    "def save_all_ch(path:str,title:str,data:np.ndarray,is_fft:bool = False):\n",
    "    fig = plot_all_ch(title,data,is_fft=is_fft)\n",
    "    fig.savefig(path)\n",
    "    plt.close(fig)\n",
    "class PlotMan():\n",
    "    def __init__(self,is_before:bool,dataset:list[np.ndarray],dataset_type:str) -> None:\n",
    "        erp = np.array([np.sum(wd,axis=0) / wd.shape[0] for wd in dataset])\n",
    "        all_erp = np.sum(erp,axis=0) /  erp.shape[0]\n",
    "        sum_eeg = np.array([np.sum(wd,axis=0) for wd in dataset])\n",
    "        all_sum_eeg = np.sum(sum_eeg,axis=0) /  sum_eeg.shape[0]\n",
    "        std_eeg = np.array([np.std(wd,axis=0,ddof=1) / wd.shape[0] for wd in dataset])\n",
    "        all_std_eeg = np.sum(std_eeg,axis=0) /  std_eeg.shape[0]\n",
    "        se_eeg = np.array([se / np.sqrt(se.shape[0]) for se in std_eeg])\n",
    "        all_se_eeg = np.sum(se_eeg,axis=0) /  se_eeg.shape[0]\n",
    "        def get_power(x:np.ndarray):\n",
    "            zs = []\n",
    "            for i in range(x.shape[0]):\n",
    "                z = np.zeros(tuple(x.shape[1:]))\n",
    "                for j in range(x.shape[1]):\n",
    "                    f = np.fft.fft(x[i,j,:])\n",
    "                    amp = np.abs(f)\n",
    "                    z[j,:] = amp ** 2\n",
    "                zs.append(z)\n",
    "            return np.array(zs)\n",
    "\n",
    "        psd_eeg = np.array([np.sum(get_power(wd),axis=0) / wd.shape[0] for wd in dataset])\n",
    "        all_psd_eeg = np.sum(psd_eeg,axis=0) /  psd_eeg.shape[0]    \n",
    "        self.erp = erp\n",
    "        self.all_erp = all_erp\n",
    "        self.sum_eeg = sum_eeg\n",
    "        self.all_sum_eeg = all_sum_eeg\n",
    "        self.std_eeg = std_eeg\n",
    "        self.all_std_eeg = all_std_eeg\n",
    "        self.se_eeg = se_eeg\n",
    "        self.all_se_eeg = all_se_eeg\n",
    "        self.is_before = is_before\n",
    "        self.dataset_type = dataset_type\n",
    "        self.psd_eeg = psd_eeg\n",
    "        self.all_psd_eeg = all_psd_eeg\n",
    "    \n",
    "    def plot_all(self):\n",
    "        plot_all_ch(f\"[{'Before' if self.is_before else 'After'}] All Mean {self.dataset_type.capitalize()} ERP\",self.all_erp)\n",
    "        plot_all_ch(f\"[{'Before' if self.is_before else 'After'}] All Mean {self.dataset_type.capitalize()} Sum\",self.all_sum_eeg)\n",
    "        plot_all_ch(f\"[{'Before' if self.is_before else 'After'}] All Mean {self.dataset_type.capitalize()} Std\",self.all_std_eeg)\n",
    "        plot_all_ch(f\"[{'Before' if self.is_before else 'After'}] All Mean {self.dataset_type.capitalize()} Se\",self.all_se_eeg)\n",
    "        plot_all_ch(f\"[{'Before' if self.is_before else 'After'}] All Mean {self.dataset_type.capitalize()} Psd\",self.all_psd_eeg,is_fft=True)\n",
    "    def save_ch(self):\n",
    "        save_dir = f\"./results/{'b' if self.is_before else 'a'}_{self.dataset_type}\"\n",
    "        os.makedirs(save_dir + \"/erp\", exist_ok=True)\n",
    "        os.makedirs(save_dir + \"/sum\", exist_ok=True)\n",
    "        os.makedirs(save_dir + \"/std\", exist_ok=True)\n",
    "        os.makedirs(save_dir + \"/se\", exist_ok=True)\n",
    "        os.makedirs(save_dir + \"/psd\", exist_ok=True)\n",
    "        for i,erp in enumerate(self.erp):\n",
    "            save_all_ch(f\"{save_dir}/erp/{i}.jpg\",f\"[{'Before' if self.is_before else 'After'}] {self.dataset_type.capitalize()} ERP(File{i + 1})\",erp)\n",
    "        for i,erp in enumerate(self.sum_eeg):\n",
    "            save_all_ch(f\"{save_dir}/sum/{i}.jpg\",f\"[{'Before' if self.is_before else 'After'}] {self.dataset_type.capitalize()} Sum(File{i + 1})\",erp)\n",
    "        for i,erp in enumerate(self.std_eeg):\n",
    "            save_all_ch(f\"{save_dir}/std/{i}.jpg\",f\"[{'Before' if self.is_before else 'After'}] {self.dataset_type.capitalize()} Std(File{i + 1})\",erp)\n",
    "        for i,erp in enumerate(self.se_eeg):\n",
    "            save_all_ch(f\"{save_dir}/std/{i}.jpg\",f\"[{'Before' if self.is_before else 'After'}] {self.dataset_type.capitalize()} Se(File{i + 1})\",erp)\n",
    "        for i,erp in enumerate(self.psd_eeg):\n",
    "            save_all_ch(f\"{save_dir}/psd/{i}.jpg\",f\"[{'Before' if self.is_before else 'After'}] {self.dataset_type.capitalize()} Psd(File{i + 1})\",erp,is_fft=True)\n",
    "before_wait = PlotMan(True,before_wait_dataset,\"wait\")\n",
    "before_dark = PlotMan(True,[ld[0] for ld in before_lord_dataset],\"dark\")\n",
    "before_light = PlotMan(True,[ld[1] for ld in before_lord_dataset],\"light\")\n",
    "\n",
    "after_wait =  PlotMan(False,after_wait_dataset,\"wait\")\n",
    "after_dark = PlotMan(False,[ld[0] for ld in after_lord_dataset],\"dark\")\n",
    "after_light = PlotMan(False,[ld[1]   for ld in after_lord_dataset],\"light\")\n",
    "\n",
    "plots = [before_wait,before_dark,before_light,after_wait,after_dark,after_light]\n"
   ]
  },
  {
   "attachments": {},
   "cell_type": "markdown",
   "metadata": {},
   "source": [
    "### 全ファイルの合算について"
   ]
  },
  {
   "cell_type": "code",
   "execution_count": null,
   "metadata": {},
   "outputs": [],
   "source": [
    "for p in plots:\n",
    "    p.plot_all()"
   ]
  },
  {
   "attachments": {},
   "cell_type": "markdown",
   "metadata": {},
   "source": [
    "### 各ファイルの結果について\n",
    "画像ファイルの数が多すぎるのでOnedriveで共有します。"
   ]
  },
  {
   "cell_type": "code",
   "execution_count": null,
   "metadata": {},
   "outputs": [],
   "source": [
    "for p in plots:\n",
    "    p.save_ch()"
   ]
  }
 ],
 "metadata": {
  "kernelspec": {
   "display_name": "base",
   "language": "python",
   "name": "python3"
  },
  "language_info": {
   "codemirror_mode": {
    "name": "ipython",
    "version": 3
   },
   "file_extension": ".py",
   "mimetype": "text/x-python",
   "name": "python",
   "nbconvert_exporter": "python",
   "pygments_lexer": "ipython3",
   "version": "3.9.13"
  },
  "orig_nbformat": 4,
  "vscode": {
   "interpreter": {
    "hash": "ced987a247890006fadb174404bf884c2606133e9ca5a8bdda00b49ca7b4dc36"
   }
  }
 },
 "nbformat": 4,
 "nbformat_minor": 2
}
