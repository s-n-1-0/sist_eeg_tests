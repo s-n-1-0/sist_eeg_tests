{
 "cells": [
  {
   "attachments": {},
   "cell_type": "markdown",
   "metadata": {},
   "source": [
    "# 明暗タスクデータセット 要約\n",
    "\n",
    "\n",
    "## 前処理\n",
    "### Pythonによるファイル統合\n",
    "心理学実験ソフトウェアのログをedfファイルに書き込む"
   ]
  },
  {
   "cell_type": "code",
   "execution_count": null,
   "metadata": {},
   "outputs": [],
   "source": [
    "import os\n",
    "from labedf import csv2,edf2,set2\n",
    "import numpy as np\n",
    "from scipy import signal\n",
    "from pyedflib import EdfReader\n",
    "from utils import edf as myedf,edflab as myedflab,signals_standardization,lowpass_filter\n",
    "DATASET_DIR_PATH = \"./dataset/lord2/train\"\n",
    "file_settings = myedflab.MergeAllCsv2EdfFileSettings(DATASET_DIR_PATH + \"/ペア.csv\",list_encoding=\"ansi\")\n",
    "edfcsv_filenames = file_settings.get_edfcsv_filenames()\n",
    "with EdfReader(f\"{DATASET_DIR_PATH}/edf/{edfcsv_filenames[0,0]}\") as er:\n",
    "    fs = int(myedf.get_fs(er))\n",
    "\n",
    "# %% merge csv,edf\n",
    "file_settings.build_dir_path = f\"{file_settings.root_path}/build/1\"\n",
    "filenames = myedflab.merge_all_csv2edf(file_settings,label_header_name=\"LorD\",marker_names=[\"Marker\"],marker_offset=None)\n",
    "file_settings.build_dir_path = f\"{file_settings.root_path}/build/2\"\n",
    "_ = myedflab.merge_all_csv2edf(file_settings,label_header_name=\"LorD\",marker_names=[\"Wait\"],marker_offset=None)"
   ]
  },
  {
   "attachments": {},
   "cell_type": "markdown",
   "metadata": {},
   "source": [
    "### MATLABで前処理\n",
    "+ [コード - コミット固定](https://github.com/s-n-1-0/sist_eeg_tests/blob/64c722b010dc63870cb3341b225c3c5873d027e8/notes/dataset/lord2/preprocessing.m)  \n",
    "(変更点 : エポックリジェクション前の途中経過を保存する処理を加えた、待機時脳波も前処理対象に加えた)"
   ]
  },
  {
   "attachments": {},
   "cell_type": "markdown",
   "metadata": {},
   "source": [
    "## データセットサイズ"
   ]
  },
  {
   "cell_type": "code",
   "execution_count": null,
   "metadata": {},
   "outputs": [],
   "source": [
    "import mne\n",
    "labels = [\"dark\",\"light\"]\n",
    "before_wait_dataset = []\n",
    "before_lord_dataset = []\n",
    "after_wait_dataset = []\n",
    "after_lord_dataset = []\n",
    "# 刺激脳波\n",
    "for filename in filenames:\n",
    "    epochs = mne.io.read_epochs_eeglab(DATASET_DIR_PATH +\"/snapshot/1/\"+filename+\".set\")\n",
    "    _ld = []\n",
    "    for label in labels:\n",
    "        _ld.append(epochs.get_data(item=f\"Marker__{label}\"))\n",
    "    before_lord_dataset.append(_ld)\n",
    "    epochs = mne.io.read_epochs_eeglab(DATASET_DIR_PATH +\"/pre2/1/\"+filename+\".set\")\n",
    "    _ld = []\n",
    "    for label in labels:\n",
    "        _ld.append(epochs.get_data(item=f\"Marker__{label}\"))\n",
    "    after_lord_dataset.append(_ld)\n",
    "\n",
    "# 待機脳波\n",
    "for filename in filenames:\n",
    "    epochs = mne.io.read_epochs_eeglab(DATASET_DIR_PATH +\"/snapshot/2/\"+filename+\".set\")\n",
    "    _wd = []\n",
    "    for label in labels:\n",
    "        _wd.append(epochs.get_data(item=f\"Wait__{label}\"))\n",
    "    before_wait_dataset.append(np.concatenate(_wd)) # dark,lightにこだわりがないため結合\n",
    "    epochs = mne.io.read_epochs_eeglab(DATASET_DIR_PATH +\"/pre2/2/\"+filename+\".set\")\n",
    "    _wd = []\n",
    "    for label in labels:\n",
    "        _wd.append(epochs.get_data(item=f\"Wait__{label}\"))\n",
    "    after_wait_dataset.append(np.concatenate(_wd))\n",
    "\n"
   ]
  },
  {
   "cell_type": "code",
   "execution_count": null,
   "metadata": {},
   "outputs": [],
   "source": [
    "import matplotlib.pyplot as plt\n",
    "\n",
    "before_wait_count = sum([wd.shape[0] for wd in before_wait_dataset])\n",
    "before_dark_count = sum([ld[0].shape[0]   for ld in before_lord_dataset])\n",
    "before_light_count = sum([ld[1].shape[0]   for ld in before_lord_dataset])\n",
    "\n",
    "after_wait_count = sum([wd.shape[0] for wd in after_wait_dataset])\n",
    "after_dark_count = sum([ld[0].shape[0]   for ld in after_lord_dataset])\n",
    "after_light_count = sum([ld[1].shape[0]   for ld in after_lord_dataset])\n",
    "\n",
    "\n",
    "print(f\"前処理前 待機画像数 : {before_wait_count}\")\n",
    "print(f\"前処理前 刺激画像数(暗) : {before_dark_count}\")\n",
    "print(f\"前処理前 刺激画像数(明) : {before_light_count}\")\n",
    "print(\"------\")\n",
    "print(f\"前処理後 待機画像数 : {after_wait_count}\")\n",
    "print(f\"前処理後 刺激画像数(暗) : {after_dark_count}\")\n",
    "print(f\"前処理後 刺激画像数(明) : {after_light_count}\")\n",
    "\n",
    "plt.bar([\"wait\"] + labels,[before_wait_count,before_dark_count,before_light_count])\n",
    "plt.title(\"Before\")\n",
    "plt.show()\n",
    "plt.title(\"After\")\n",
    "plt.bar([\"wait\"] + labels,[after_wait_count,after_dark_count,after_light_count])\n"
   ]
  },
  {
   "attachments": {},
   "cell_type": "markdown",
   "metadata": {},
   "source": [
    "## 加算平均・標準偏差・標準誤差・パワースペクトル(平均)"
   ]
  },
  {
   "cell_type": "code",
   "execution_count": null,
   "metadata": {},
   "outputs": [],
   "source": [
    "from matplotlib.axes import Axes\n",
    "from scipy.fft import fft\n",
    "from scipy import signal\n",
    "\n",
    "t_range = [i/500 - 1 for i in range(1500)]\n",
    "number =1024 #サンプル数\n",
    "dt= (number/500)/number #時間幅\n",
    "freq = np.fft.fftfreq(number,d=dt)\n",
    "def plot_all_ch(title,plot_func):\n",
    "    fig = plt.figure(figsize=(30,8),facecolor=\"white\")\n",
    "    fig.suptitle(title)\n",
    "    plt.subplots_adjust(wspace=0.4, hspace=0.6)\n",
    "    for i in range(10):\n",
    "        ax = fig.add_subplot(3, 4, i+1)\n",
    "        plot_func(title,ax,i)\n",
    "        ax.set_title(f\"{i + 1}ch\")\n",
    "        ax.legend(loc='upper left', bbox_to_anchor=(1,1))\n",
    "        ax.axvline(x=0,color=\"gray\")\n",
    "    return fig\n",
    "\n",
    "def save_all_ch(path:str,title:str,data:np.ndarray,is_fft:bool = False):\n",
    "    fig = plot_all_ch(title,data,is_fft=is_fft)\n",
    "    fig.savefig(path)\n",
    "    plt.close(fig)\n",
    "class PlotMan():\n",
    "    def __init__(self,is_before:bool,_dataset:list[np.ndarray],dataset_type:str) -> None:\n",
    "        dataset = np.concatenate(_dataset)\n",
    "        l = dataset.shape[0]\n",
    "        erp = np.sum(dataset,axis=0) / l\n",
    "        sum_eeg = np.sum(dataset,axis=0)\n",
    "        std_eeg = np.std(dataset,axis=0,ddof=1)\n",
    "        se_eeg = std_eeg /np.sqrt(l)\n",
    "        psd = np.concatenate(_dataset)[:,:,750-512:750+512]\n",
    "        han = signal.hann(number)\n",
    "        for i in range(psd.shape[0]):\n",
    "            for j in range(psd.shape[1]):\n",
    "                psd[i,j,:] *= han\n",
    "        psd_eeg = np.abs(fft(psd,axis=-1)) ** 2\n",
    "        psd_eeg = np.sum(psd_eeg,axis=0) / l\n",
    "        self.erp = erp\n",
    "        self.sum_eeg = sum_eeg\n",
    "        self.std_eeg = std_eeg\n",
    "        self.se_eeg = se_eeg\n",
    "        self.is_before = is_before\n",
    "        self.dataset_type = dataset_type\n",
    "        self.psd_eeg = psd_eeg\n",
    "    \n",
    "    def plot_sum(self):\n",
    "        def _plot_sum(_,i):\n",
    "            plt.plot(t_range,self.plot_sum[i,:])\n",
    "        plot_all_ch(f\"[{'Before' if self.is_before else 'After'}] All {self.dataset_type.capitalize()} Sum\",_plot_sum)\n",
    "    def plot_psd(self):\n",
    "        def plot_all_psd(title):\n",
    "            fig = plt.figure(figsize=(30,8),facecolor=\"white\")\n",
    "            fig.suptitle(title)\n",
    "            plt.subplots_adjust(wspace=0.4, hspace=0.6)\n",
    "            for i in range(10):\n",
    "                psd = self.psd_eeg\n",
    "                plt.plot(freq[1:150],psd[i,1:150],label=i+1)\n",
    "                #ax.set_title(f\"{i + 1}ch\")\n",
    "            plt.legend(loc='upper left', bbox_to_anchor=(1,1))\n",
    "            plt.ylim(0,10**(-4.9))\n",
    "            return fig\n",
    "            \n",
    "        plot_all_psd(f\"[{'Before' if self.is_before else 'After'}] All {self.dataset_type.capitalize()} Psd\")\n",
    "before_wait = PlotMan(True,before_wait_dataset,\"wait\")\n",
    "before_dark = PlotMan(True,[ld[0] for ld in before_lord_dataset],\"dark\")\n",
    "before_light = PlotMan(True,[ld[1] for ld in before_lord_dataset],\"light\")\n",
    "\n",
    "after_wait =  PlotMan(False,after_wait_dataset,\"wait\")\n",
    "after_dark = PlotMan(False,[ld[0] for ld in after_lord_dataset],\"dark\")\n",
    "after_light = PlotMan(False,[ld[1]   for ld in after_lord_dataset],\"light\")\n",
    "\n",
    "before_plots = [before_wait,before_dark,before_light]\n",
    "after_plots = [after_wait,after_dark,after_light]\n"
   ]
  },
  {
   "attachments": {},
   "cell_type": "markdown",
   "metadata": {},
   "source": [
    "### ERP-SE"
   ]
  },
  {
   "cell_type": "code",
   "execution_count": null,
   "metadata": {},
   "outputs": [],
   "source": [
    "def plot_erp_se(is_before:bool):\n",
    "    def _plot_erp_se(title:str,ax:Axes,i:int):\n",
    "        def __plot_erp_se(erp,se_eeg,data_type:str):\n",
    "            erp = erp[i,:]\n",
    "            se = se_eeg[i,:]\n",
    "            p = ax.plot(t_range,erp+se,label=data_type.capitalize(),linestyle=\"dashed\")\n",
    "            ax.plot(t_range,erp-se,label=f\"_{data_type.capitalize()}\",color=p[0].get_color(),linestyle=\"dashed\")\n",
    "            ax.plot(t_range, erp,label=f\"_{data_type.capitalize()}\",color=p[0].get_color())\n",
    "        if is_before:\n",
    "            for bp in before_plots:\n",
    "                __plot_erp_se(bp.erp,bp.se_eeg,bp.dataset_type)\n",
    "        else:\n",
    "            for ap in after_plots:\n",
    "                __plot_erp_se(ap.erp,ap.se_eeg,ap.dataset_type)\n",
    "    plot_all_ch(f\"[{'Before' if is_before else 'After'}] ERP-SE\",_plot_erp_se)\n",
    "\n",
    "plot_erp_se(True)\n",
    "plot_erp_se(False)"
   ]
  },
  {
   "attachments": {},
   "cell_type": "markdown",
   "metadata": {},
   "source": [
    "### ERP-STD"
   ]
  },
  {
   "cell_type": "code",
   "execution_count": null,
   "metadata": {},
   "outputs": [],
   "source": [
    "def plot_erp_std(is_before:bool):\n",
    "    def _plot_erp_std(title:str,ax:Axes,i:int):\n",
    "        def __plot_erp_std(erp,std_eeg,data_type:str):\n",
    "            erp = erp[i,:]\n",
    "            std = std_eeg[i,:]\n",
    "            p = ax.plot(t_range,erp+std,label=data_type.capitalize(),linestyle=\"dashed\")\n",
    "            ax.plot(t_range,erp-std,label=f\"_{data_type.capitalize()}\",color=p[0].get_color(),linestyle=\"dashed\")\n",
    "            ax.plot(t_range, erp,label=f\"_{data_type.capitalize()}\",color=p[0].get_color())\n",
    "        if is_before:\n",
    "            for bp in before_plots:\n",
    "                __plot_erp_std(bp.erp,bp.std_eeg,bp.dataset_type)\n",
    "        else:\n",
    "            for ap in after_plots:\n",
    "                __plot_erp_std(ap.erp,ap.std_eeg,ap.dataset_type)\n",
    "    plot_all_ch(f\"[{'Before' if is_before else 'After'}] ERP-STD\",_plot_erp_std)\n",
    "\n",
    "plot_erp_std(True)\n",
    "plot_erp_std(False)"
   ]
  },
  {
   "attachments": {},
   "cell_type": "markdown",
   "metadata": {},
   "source": [
    "### PS"
   ]
  },
  {
   "cell_type": "code",
   "execution_count": null,
   "metadata": {},
   "outputs": [],
   "source": [
    "for p in (before_plots + after_plots):\n",
    "    p.plot_psd()"
   ]
  },
  {
   "cell_type": "code",
   "execution_count": null,
   "metadata": {},
   "outputs": [],
   "source": []
  }
 ],
 "metadata": {
  "kernelspec": {
   "display_name": "base",
   "language": "python",
   "name": "python3"
  },
  "language_info": {
   "codemirror_mode": {
    "name": "ipython",
    "version": 3
   },
   "file_extension": ".py",
   "mimetype": "text/x-python",
   "name": "python",
   "nbconvert_exporter": "python",
   "pygments_lexer": "ipython3",
   "version": "3.9.12"
  },
  "orig_nbformat": 4,
  "vscode": {
   "interpreter": {
    "hash": "ad2bdc8ecc057115af97d19610ffacc2b4e99fae6737bb82f5d7fb13d2f2c186"
   }
  }
 },
 "nbformat": 4,
 "nbformat_minor": 2
}
