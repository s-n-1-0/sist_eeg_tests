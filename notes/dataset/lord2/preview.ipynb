{
 "cells": [
  {
   "attachments": {},
   "cell_type": "markdown",
   "metadata": {},
   "source": [
    "# 明暗タスクデータセット 要約\n",
    "\n",
    "\n",
    "## 前処理\n",
    "### Pythonによるファイル統合\n",
    "心理学実験ソフトウェアのログをedfファイルに書き込む"
   ]
  },
  {
   "cell_type": "code",
   "execution_count": null,
   "metadata": {},
   "outputs": [],
   "source": [
    "import os\n",
    "from labedf import csv2,edf2,set2\n",
    "import numpy as np\n",
    "from scipy import signal\n",
    "from pyedflib import EdfReader\n",
    "from utils import edf as myedf,edflab as myedflab,signals_standardization,lowpass_filter\n",
    "DATASET_DIR_PATH = \"./dataset/lord2/train\"\n",
    "file_settings = myedflab.MergeAllCsv2EdfFileSettings(DATASET_DIR_PATH + \"/ペア.csv\",list_encoding=\"ansi\")\n",
    "edfcsv_filenames = file_settings.get_edfcsv_filenames()\n",
    "with EdfReader(f\"{DATASET_DIR_PATH}/edf/{edfcsv_filenames[0,0]}\") as er:\n",
    "    fs = int(myedf.get_fs(er))\n",
    "\n",
    "# %% merge csv,edf\n",
    "file_settings.build_dir_path = f\"{file_settings.root_path}/build/1\"\n",
    "filenames = myedflab.merge_all_csv2edf(file_settings,label_header_name=\"LorD\",marker_names=[\"Marker\"],marker_offset=None)\n",
    "file_settings.build_dir_path = f\"{file_settings.root_path}/build/2\"\n",
    "_ = myedflab.merge_all_csv2edf(file_settings,label_header_name=\"LorD\",marker_names=[\"Wait\"],marker_offset=None)"
   ]
  },
  {
   "attachments": {},
   "cell_type": "markdown",
   "metadata": {},
   "source": [
    "### MATLABで前処理\n",
    "+ [コード - コミット固定](https://github.com/s-n-1-0/sist_eeg_tests/blob/64c722b010dc63870cb3341b225c3c5873d027e8/notes/dataset/lord2/preprocessing.m)  \n",
    "(変更点 : エポックリジェクション前の途中経過を保存する処理を加えた、待機時脳波も前処理対象に加えた)"
   ]
  },
  {
   "attachments": {},
   "cell_type": "markdown",
   "metadata": {},
   "source": [
    "## データセットサイズ"
   ]
  },
  {
   "cell_type": "code",
   "execution_count": null,
   "metadata": {},
   "outputs": [],
   "source": [
    "import mne\n",
    "labels = [\"dark\",\"light\"]\n",
    "before_wait_dataset = []\n",
    "before_lord_dataset = []\n",
    "after_wait_dataset = []\n",
    "after_lord_dataset = []\n",
    "# 刺激脳波\n",
    "for filename in filenames:\n",
    "    epochs = mne.io.read_epochs_eeglab(DATASET_DIR_PATH +\"/snapshot/1/\"+filename+\".set\")\n",
    "    _ld = []\n",
    "    for label in labels:\n",
    "        _ld.append(epochs.get_data(item=f\"Marker__{label}\"))\n",
    "    before_lord_dataset.append(_ld)\n",
    "    epochs = mne.io.read_epochs_eeglab(DATASET_DIR_PATH +\"/pre2/1/\"+filename+\".set\")\n",
    "    _ld = []\n",
    "    for label in labels:\n",
    "        _ld.append(epochs.get_data(item=f\"Marker__{label}\"))\n",
    "    after_lord_dataset.append(_ld)\n",
    "\n",
    "# 待機脳波\n",
    "for filename in filenames:\n",
    "    epochs = mne.io.read_epochs_eeglab(DATASET_DIR_PATH +\"/snapshot/2/\"+filename+\".set\")\n",
    "    _wd = []\n",
    "    for label in labels:\n",
    "        _wd.append(epochs.get_data(item=f\"Wait__{label}\"))\n",
    "    before_wait_dataset.append(np.concatenate(_wd)) # dark,lightにこだわりがないため結合\n",
    "    epochs = mne.io.read_epochs_eeglab(DATASET_DIR_PATH +\"/pre2/2/\"+filename+\".set\")\n",
    "    _wd = []\n",
    "    for label in labels:\n",
    "        _wd.append(epochs.get_data(item=f\"Wait__{label}\"))\n",
    "    after_wait_dataset.append(np.concatenate(_wd))\n",
    "\n"
   ]
  },
  {
   "cell_type": "code",
   "execution_count": null,
   "metadata": {},
   "outputs": [],
   "source": [
    "import matplotlib.pyplot as plt\n",
    "\n",
    "before_wait_count = sum([wd.shape[0] for wd in before_wait_dataset])\n",
    "before_dark_count = sum([ld[0].shape[0]   for ld in before_lord_dataset])\n",
    "before_light_count = sum([ld[1].shape[0]   for ld in before_lord_dataset])\n",
    "\n",
    "after_wait_count = sum([wd.shape[0] for wd in after_wait_dataset])\n",
    "after_dark_count = sum([ld[0].shape[0]   for ld in after_lord_dataset])\n",
    "after_light_count = sum([ld[1].shape[0]   for ld in after_lord_dataset])\n",
    "\n",
    "\n",
    "print(f\"前処理前 待機画像数 : {before_wait_count}\")\n",
    "print(f\"前処理前 刺激画像数(暗) : {before_dark_count}\")\n",
    "print(f\"前処理前 刺激画像数(明) : {before_light_count}\")\n",
    "print(\"------\")\n",
    "print(f\"前処理後 待機画像数 : {after_wait_count}\")\n",
    "print(f\"前処理後 刺激画像数(暗) : {after_dark_count}\")\n",
    "print(f\"前処理後 刺激画像数(明) : {after_light_count}\")\n",
    "\n",
    "plt.bar([\"wait\"] + labels,[before_wait_count,before_dark_count,before_light_count])\n",
    "plt.title(\"Before\")\n",
    "plt.show()\n",
    "plt.title(\"After\")\n",
    "plt.bar([\"wait\"] + labels,[after_wait_count,after_dark_count,after_light_count])\n"
   ]
  },
  {
   "attachments": {},
   "cell_type": "markdown",
   "metadata": {},
   "source": [
    "## 加算平均・平均・標準偏差・標準誤差"
   ]
  },
  {
   "cell_type": "code",
   "execution_count": null,
   "metadata": {},
   "outputs": [],
   "source": [
    "before_erp_wait = np.array([np.sum(wd,axis=0) / wd.shape[0] for wd in before_wait_dataset])\n",
    "before_erp_dark = np.array([np.sum(ld[0],axis=0) / ld[0].shape[0]   for ld in before_lord_dataset])\n",
    "before_erp_light = np.array([np.sum(ld[1],axis=0) / ld[1].shape[0]   for ld in before_lord_dataset])\n",
    "\n",
    "after_erp_wait =  np.array([np.sum(wd,axis=0) / wd.shape[0] for wd in after_wait_dataset])\n",
    "after_erp_dark = np.array([np.sum(ld[0],axis=0) / ld[0].shape[0]   for ld in after_lord_dataset])\n",
    "after_erp_light = np.array([np.sum(ld[1],axis=0) / ld[1].shape[0]   for ld in after_lord_dataset])\n"
   ]
  },
  {
   "attachments": {},
   "cell_type": "markdown",
   "metadata": {},
   "source": [
    "### 全ファイルの合算について"
   ]
  },
  {
   "cell_type": "code",
   "execution_count": null,
   "metadata": {},
   "outputs": [],
   "source": [
    "t_range = [i/500 - 1 for i in range(1500)]\n",
    "def plot_all_ch(title,data:np.ndarray):\n",
    "    fig = plt.figure(figsize=(20,8))\n",
    "    fig.suptitle(title)\n",
    "    plt.subplots_adjust(wspace=0.4, hspace=0.6)\n",
    "    for i in range(10):\n",
    "        ax = fig.add_subplot(3, 4, i+1)\n",
    "        ax.plot(t_range,data[i,:])\n",
    "        ax.set_title(f\"{i + 1}ch\")\n",
    "before_all_erp_wait = np.sum(before_erp_wait,axis=0) / before_erp_wait.shape[0]\n",
    "before_all_erp_dark = np.sum(before_erp_dark,axis=0) / before_erp_dark.shape[0]\n",
    "before_all_erp_light = np.sum(before_erp_light,axis=0) / before_erp_light.shape[0]\n",
    "\n",
    "after_all_erp_wait = np.sum(after_erp_wait,axis=0) / after_erp_wait.shape[0]\n",
    "after_all_erp_dark = np.sum(after_erp_dark,axis=0) / after_erp_dark.shape[0]\n",
    "after_all_erp_light = np.sum(after_erp_light,axis=0) / after_erp_light.shape[0]\n",
    "plot_all_ch(\"[Before] All Mean Wait ERP\",before_all_erp_wait)\n",
    "plot_all_ch(\"[Before] All Mean Dark ERP\",before_all_erp_dark)\n",
    "plot_all_ch(\"[Before] All Mean Light ERP\",before_all_erp_light)\n",
    "plot_all_ch(\"[After] All Mean Wait ERP\",after_all_erp_wait)\n",
    "plot_all_ch(\"[After] All Mean Dark ERP\",after_all_erp_dark)\n",
    "plot_all_ch(\"[After] All Mean Light ERP\",after_all_erp_light)"
   ]
  },
  {
   "attachments": {},
   "cell_type": "markdown",
   "metadata": {},
   "source": [
    "### 各ファイルの結果について\n",
    "画像ファイルの数が多すぎるのでOnedriveで共有します。"
   ]
  },
  {
   "cell_type": "markdown",
   "metadata": {},
   "source": []
  }
 ],
 "metadata": {
  "kernelspec": {
   "display_name": "base",
   "language": "python",
   "name": "python3"
  },
  "language_info": {
   "codemirror_mode": {
    "name": "ipython",
    "version": 3
   },
   "file_extension": ".py",
   "mimetype": "text/x-python",
   "name": "python",
   "nbconvert_exporter": "python",
   "pygments_lexer": "ipython3",
   "version": "3.9.13"
  },
  "orig_nbformat": 4,
  "vscode": {
   "interpreter": {
    "hash": "ced987a247890006fadb174404bf884c2606133e9ca5a8bdda00b49ca7b4dc36"
   }
  }
 },
 "nbformat": 4,
 "nbformat_minor": 2
}
